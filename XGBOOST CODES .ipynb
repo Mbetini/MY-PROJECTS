{
 "cells": [
  {
   "cell_type": "code",
   "execution_count": 4,
   "metadata": {},
   "outputs": [],
   "source": [
    "#data manipulation libraries\n",
    "import pandas as pd\n",
    "import numpy as np\n",
    "\n",
    "#data visualization libraries\n",
    "import seaborn as sns\n",
    "import matplotlib.pyplot as plt\n",
    "%matplotlib inline\n",
    "import plotly.express as px\n",
    "import graphviz\n",
    "\n",
    "\n",
    "#model algorithm libraries\n",
    "import sklearn\n",
    "import pickle\n",
    "from xgboost import XGBClassifier\n",
    "from sklearn.model_selection import train_test_split\n",
    "from sklearn.preprocessing import LabelEncoder\n",
    "from sklearn import preprocessing\n",
    "from sklearn.tree import DecisionTreeRegressor\n",
    "from sklearn.metrics import accuracy_score\n",
    "from sklearn.ensemble import (RandomForestClassifier, \n",
    "                              AdaBoostClassifier, \n",
    "                              GradientBoostingClassifier)\n",
    "OMP_NUM_THREADS=1"
   ]
  },
  {
   "cell_type": "code",
   "execution_count": 5,
   "metadata": {},
   "outputs": [],
   "source": [
    "# XGBoost model for affair dataset\n",
    "from numpy import loadtxt\n",
    "from xgboost import XGBClassifier\n",
    "from sklearn.model_selection import train_test_split\n",
    "from sklearn.metrics import accuracy_score\n",
    "\n",
    "import matplotlib.pyplot as plt\n",
    "from sklearn.metrics import plot_confusion_matrix\n",
    "from sklearn.metrics import confusion_matrix\n",
    "\n"
   ]
  },
  {
   "cell_type": "code",
   "execution_count": 6,
   "metadata": {},
   "outputs": [],
   "source": [
    "# load data\n",
    "af = pd.read_csv('C:/Users/metini/Desktop/CARDIFFMET/Programming/affairs.csv')\n"
   ]
  },
  {
   "cell_type": "code",
   "execution_count": 7,
   "metadata": {},
   "outputs": [
    {
     "name": "stdout",
     "output_type": "stream",
     "text": [
      "<class 'pandas.core.frame.DataFrame'>\n",
      "      rate_marriage   age  yrs_married  children  religious  educ  occupation  \\\n",
      "0                 3  32.0          9.0       3.0          3    17           2   \n",
      "1                 3  27.0         13.0       3.0          1    14           3   \n",
      "2                 4  22.0          2.5       0.0          1    16           3   \n",
      "3                 4  37.0         16.5       4.0          3    16           5   \n",
      "4                 5  27.0          9.0       1.0          1    14           3   \n",
      "...             ...   ...          ...       ...        ...   ...         ...   \n",
      "6361              5  32.0         13.0       2.0          3    17           4   \n",
      "6362              4  32.0         13.0       1.0          1    16           5   \n",
      "6363              5  22.0          2.5       0.0          2    14           3   \n",
      "6364              5  32.0          6.0       1.0          3    14           3   \n",
      "6365              4  22.0          2.5       0.0          2    16           2   \n",
      "\n",
      "      occupation_husb  \n",
      "0                   5  \n",
      "1                   4  \n",
      "2                   5  \n",
      "3                   5  \n",
      "4                   4  \n",
      "...               ...  \n",
      "6361                3  \n",
      "6362                5  \n",
      "6363                1  \n",
      "6364                4  \n",
      "6365                4  \n",
      "\n",
      "[6366 rows x 8 columns]\n",
      "<class 'pandas.core.series.Series'>\n",
      "0       1\n",
      "1       1\n",
      "2       1\n",
      "3       1\n",
      "4       1\n",
      "       ..\n",
      "6361    0\n",
      "6362    0\n",
      "6363    0\n",
      "6364    0\n",
      "6365    0\n",
      "Name: affair, Length: 6366, dtype: int64\n",
      "<class 'numpy.ndarray'>\n",
      "<class 'numpy.ndarray'>\n"
     ]
    }
   ],
   "source": [
    "#separate dataframe for independent variables\n",
    "independent_variables =['rate_marriage', 'age', 'yrs_married', 'children', 'religious', 'educ',\n",
    "       'occupation', 'occupation_husb' ]\n",
    "X = af[independent_variables]\n",
    "\n",
    "print (type(X))\n",
    "print (X)\n",
    "\n",
    "#create series of target variable \n",
    "target_variable ='affair' \n",
    "y = af[target_variable]\n",
    "\n",
    "print (type(y))\n",
    "print (y)\n",
    "\n",
    "#convert to numpy array\n",
    "X_numpy = np.array(X)\n",
    "y_numpy = np.array(y)\n",
    "\n",
    "print (type(X_numpy))\n",
    "print (type(y_numpy))\n",
    "\n",
    "from sklearn.model_selection import train_test_split\n",
    "X_train, X_test,y_train, y_test = train_test_split(\n",
    "    X_numpy, y_numpy, test_size=0.20, random_state=1,)"
   ]
  },
  {
   "cell_type": "code",
   "execution_count": 8,
   "metadata": {},
   "outputs": [],
   "source": [
    "# split data into train and test sets\n",
    "\n",
    "X_train, X_test, y_train, y_test = train_test_split(X, y, test_size=0.20, random_state=1)"
   ]
  },
  {
   "cell_type": "code",
   "execution_count": 9,
   "metadata": {},
   "outputs": [
    {
     "name": "stdout",
     "output_type": "stream",
     "text": [
      "[0]\tvalidation_0-error:0.26139\tvalidation_0-logloss:0.61903\tvalidation_1-error:0.28650\tvalidation_1-logloss:0.62655\n"
     ]
    },
    {
     "name": "stderr",
     "output_type": "stream",
     "text": [
      "C:\\Users\\metini\\anaconda3\\lib\\site-packages\\xgboost\\sklearn.py:1146: UserWarning: The use of label encoder in XGBClassifier is deprecated and will be removed in a future release. To remove this warning, do the following: 1) Pass option use_label_encoder=False when constructing XGBClassifier object; and 2) Encode your labels (y) as integers starting with 0, i.e. 0, 1, 2, ..., [num_class - 1].\n",
      "  warnings.warn(label_encoder_deprecation_msg, UserWarning)\n"
     ]
    },
    {
     "name": "stdout",
     "output_type": "stream",
     "text": [
      "[1]\tvalidation_0-error:0.25589\tvalidation_0-logloss:0.57824\tvalidation_1-error:0.28258\tvalidation_1-logloss:0.58984\n",
      "[2]\tvalidation_0-error:0.25550\tvalidation_0-logloss:0.55461\tvalidation_1-error:0.27786\tvalidation_1-logloss:0.56802\n",
      "[3]\tvalidation_0-error:0.25079\tvalidation_0-logloss:0.53793\tvalidation_1-error:0.28022\tvalidation_1-logloss:0.55727\n",
      "[4]\tvalidation_0-error:0.24804\tvalidation_0-logloss:0.52639\tvalidation_1-error:0.27865\tvalidation_1-logloss:0.54962\n",
      "[5]\tvalidation_0-error:0.24745\tvalidation_0-logloss:0.51813\tvalidation_1-error:0.27472\tvalidation_1-logloss:0.54415\n",
      "[6]\tvalidation_0-error:0.24588\tvalidation_0-logloss:0.51250\tvalidation_1-error:0.26923\tvalidation_1-logloss:0.54070\n",
      "[7]\tvalidation_0-error:0.24627\tvalidation_0-logloss:0.50793\tvalidation_1-error:0.27394\tvalidation_1-logloss:0.54035\n",
      "[8]\tvalidation_0-error:0.24489\tvalidation_0-logloss:0.50407\tvalidation_1-error:0.26845\tvalidation_1-logloss:0.53840\n",
      "[9]\tvalidation_0-error:0.24254\tvalidation_0-logloss:0.50170\tvalidation_1-error:0.26923\tvalidation_1-logloss:0.53741\n",
      "[10]\tvalidation_0-error:0.24057\tvalidation_0-logloss:0.49754\tvalidation_1-error:0.27080\tvalidation_1-logloss:0.53637\n",
      "[11]\tvalidation_0-error:0.24136\tvalidation_0-logloss:0.49491\tvalidation_1-error:0.26923\tvalidation_1-logloss:0.53471\n",
      "[12]\tvalidation_0-error:0.23861\tvalidation_0-logloss:0.49225\tvalidation_1-error:0.27002\tvalidation_1-logloss:0.53417\n",
      "[13]\tvalidation_0-error:0.23645\tvalidation_0-logloss:0.48985\tvalidation_1-error:0.26923\tvalidation_1-logloss:0.53532\n",
      "[14]\tvalidation_0-error:0.23684\tvalidation_0-logloss:0.48869\tvalidation_1-error:0.27080\tvalidation_1-logloss:0.53500\n",
      "[15]\tvalidation_0-error:0.23508\tvalidation_0-logloss:0.48673\tvalidation_1-error:0.27080\tvalidation_1-logloss:0.53418\n",
      "[16]\tvalidation_0-error:0.23429\tvalidation_0-logloss:0.48466\tvalidation_1-error:0.26923\tvalidation_1-logloss:0.53371\n",
      "[17]\tvalidation_0-error:0.23213\tvalidation_0-logloss:0.48270\tvalidation_1-error:0.27002\tvalidation_1-logloss:0.53542\n",
      "[18]\tvalidation_0-error:0.23134\tvalidation_0-logloss:0.48142\tvalidation_1-error:0.27237\tvalidation_1-logloss:0.53680\n",
      "[19]\tvalidation_0-error:0.22977\tvalidation_0-logloss:0.47749\tvalidation_1-error:0.27159\tvalidation_1-logloss:0.53682\n",
      "[20]\tvalidation_0-error:0.22801\tvalidation_0-logloss:0.47602\tvalidation_1-error:0.27159\tvalidation_1-logloss:0.53707\n",
      "[21]\tvalidation_0-error:0.22801\tvalidation_0-logloss:0.47494\tvalidation_1-error:0.27159\tvalidation_1-logloss:0.53778\n",
      "[22]\tvalidation_0-error:0.22643\tvalidation_0-logloss:0.47367\tvalidation_1-error:0.27237\tvalidation_1-logloss:0.53864\n",
      "[23]\tvalidation_0-error:0.22584\tvalidation_0-logloss:0.47258\tvalidation_1-error:0.27551\tvalidation_1-logloss:0.53992\n",
      "[24]\tvalidation_0-error:0.22427\tvalidation_0-logloss:0.47075\tvalidation_1-error:0.27551\tvalidation_1-logloss:0.54141\n",
      "[25]\tvalidation_0-error:0.22211\tvalidation_0-logloss:0.46902\tvalidation_1-error:0.27472\tvalidation_1-logloss:0.54260\n",
      "[26]\tvalidation_0-error:0.21818\tvalidation_0-logloss:0.46556\tvalidation_1-error:0.27472\tvalidation_1-logloss:0.54451\n",
      "[27]\tvalidation_0-error:0.21779\tvalidation_0-logloss:0.46408\tvalidation_1-error:0.27472\tvalidation_1-logloss:0.54441\n",
      "[28]\tvalidation_0-error:0.21622\tvalidation_0-logloss:0.46228\tvalidation_1-error:0.26923\tvalidation_1-logloss:0.54508\n",
      "[29]\tvalidation_0-error:0.21544\tvalidation_0-logloss:0.46079\tvalidation_1-error:0.26923\tvalidation_1-logloss:0.54569\n",
      "[30]\tvalidation_0-error:0.21308\tvalidation_0-logloss:0.45832\tvalidation_1-error:0.27237\tvalidation_1-logloss:0.54624\n",
      "[31]\tvalidation_0-error:0.21269\tvalidation_0-logloss:0.45686\tvalidation_1-error:0.27394\tvalidation_1-logloss:0.54579\n",
      "[32]\tvalidation_0-error:0.21053\tvalidation_0-logloss:0.45578\tvalidation_1-error:0.27551\tvalidation_1-logloss:0.54571\n",
      "[33]\tvalidation_0-error:0.20876\tvalidation_0-logloss:0.45422\tvalidation_1-error:0.27551\tvalidation_1-logloss:0.54765\n",
      "[34]\tvalidation_0-error:0.20797\tvalidation_0-logloss:0.45356\tvalidation_1-error:0.27472\tvalidation_1-logloss:0.54816\n",
      "[35]\tvalidation_0-error:0.20817\tvalidation_0-logloss:0.45172\tvalidation_1-error:0.27786\tvalidation_1-logloss:0.54955\n",
      "[36]\tvalidation_0-error:0.20778\tvalidation_0-logloss:0.44947\tvalidation_1-error:0.27394\tvalidation_1-logloss:0.55131\n",
      "[37]\tvalidation_0-error:0.20562\tvalidation_0-logloss:0.44704\tvalidation_1-error:0.27472\tvalidation_1-logloss:0.55207\n",
      "[38]\tvalidation_0-error:0.20522\tvalidation_0-logloss:0.44574\tvalidation_1-error:0.27551\tvalidation_1-logloss:0.55273\n",
      "[39]\tvalidation_0-error:0.20444\tvalidation_0-logloss:0.44455\tvalidation_1-error:0.27472\tvalidation_1-logloss:0.55428\n",
      "[40]\tvalidation_0-error:0.20287\tvalidation_0-logloss:0.44329\tvalidation_1-error:0.27630\tvalidation_1-logloss:0.55509\n",
      "[41]\tvalidation_0-error:0.20247\tvalidation_0-logloss:0.44201\tvalidation_1-error:0.27551\tvalidation_1-logloss:0.55525\n",
      "[42]\tvalidation_0-error:0.20149\tvalidation_0-logloss:0.44023\tvalidation_1-error:0.27708\tvalidation_1-logloss:0.55703\n",
      "[43]\tvalidation_0-error:0.20130\tvalidation_0-logloss:0.43860\tvalidation_1-error:0.28179\tvalidation_1-logloss:0.55724\n",
      "[44]\tvalidation_0-error:0.19894\tvalidation_0-logloss:0.43635\tvalidation_1-error:0.28336\tvalidation_1-logloss:0.55819\n",
      "[45]\tvalidation_0-error:0.19717\tvalidation_0-logloss:0.43512\tvalidation_1-error:0.28493\tvalidation_1-logloss:0.55829\n",
      "[46]\tvalidation_0-error:0.19678\tvalidation_0-logloss:0.43399\tvalidation_1-error:0.28258\tvalidation_1-logloss:0.55803\n",
      "[47]\tvalidation_0-error:0.19580\tvalidation_0-logloss:0.43226\tvalidation_1-error:0.28336\tvalidation_1-logloss:0.55831\n",
      "[48]\tvalidation_0-error:0.19423\tvalidation_0-logloss:0.43050\tvalidation_1-error:0.28258\tvalidation_1-logloss:0.55966\n",
      "[49]\tvalidation_0-error:0.19108\tvalidation_0-logloss:0.42762\tvalidation_1-error:0.28885\tvalidation_1-logloss:0.56163\n",
      "[50]\tvalidation_0-error:0.19030\tvalidation_0-logloss:0.42696\tvalidation_1-error:0.28807\tvalidation_1-logloss:0.56214\n",
      "[51]\tvalidation_0-error:0.19049\tvalidation_0-logloss:0.42594\tvalidation_1-error:0.28336\tvalidation_1-logloss:0.56216\n",
      "[52]\tvalidation_0-error:0.19069\tvalidation_0-logloss:0.42539\tvalidation_1-error:0.28336\tvalidation_1-logloss:0.56278\n",
      "[53]\tvalidation_0-error:0.18873\tvalidation_0-logloss:0.42377\tvalidation_1-error:0.28336\tvalidation_1-logloss:0.56356\n",
      "[54]\tvalidation_0-error:0.18912\tvalidation_0-logloss:0.42305\tvalidation_1-error:0.28493\tvalidation_1-logloss:0.56335\n",
      "[55]\tvalidation_0-error:0.18853\tvalidation_0-logloss:0.42227\tvalidation_1-error:0.28571\tvalidation_1-logloss:0.56430\n",
      "[56]\tvalidation_0-error:0.18774\tvalidation_0-logloss:0.42083\tvalidation_1-error:0.28571\tvalidation_1-logloss:0.56426\n",
      "[57]\tvalidation_0-error:0.18696\tvalidation_0-logloss:0.41977\tvalidation_1-error:0.29042\tvalidation_1-logloss:0.56561\n",
      "[58]\tvalidation_0-error:0.18637\tvalidation_0-logloss:0.41922\tvalidation_1-error:0.29042\tvalidation_1-logloss:0.56611\n",
      "[59]\tvalidation_0-error:0.18539\tvalidation_0-logloss:0.41844\tvalidation_1-error:0.29356\tvalidation_1-logloss:0.56736\n",
      "[60]\tvalidation_0-error:0.18421\tvalidation_0-logloss:0.41675\tvalidation_1-error:0.29199\tvalidation_1-logloss:0.56898\n",
      "[61]\tvalidation_0-error:0.18460\tvalidation_0-logloss:0.41632\tvalidation_1-error:0.29121\tvalidation_1-logloss:0.56967\n",
      "[62]\tvalidation_0-error:0.18460\tvalidation_0-logloss:0.41566\tvalidation_1-error:0.29278\tvalidation_1-logloss:0.57039\n",
      "[63]\tvalidation_0-error:0.18421\tvalidation_0-logloss:0.41461\tvalidation_1-error:0.28964\tvalidation_1-logloss:0.57034\n",
      "[64]\tvalidation_0-error:0.18382\tvalidation_0-logloss:0.41374\tvalidation_1-error:0.29121\tvalidation_1-logloss:0.57051\n",
      "[65]\tvalidation_0-error:0.18362\tvalidation_0-logloss:0.41287\tvalidation_1-error:0.28728\tvalidation_1-logloss:0.57132\n",
      "[66]\tvalidation_0-error:0.18205\tvalidation_0-logloss:0.41184\tvalidation_1-error:0.29356\tvalidation_1-logloss:0.57170\n",
      "[67]\tvalidation_0-error:0.18146\tvalidation_0-logloss:0.41123\tvalidation_1-error:0.29670\tvalidation_1-logloss:0.57255\n",
      "[68]\tvalidation_0-error:0.18225\tvalidation_0-logloss:0.41076\tvalidation_1-error:0.29513\tvalidation_1-logloss:0.57271\n",
      "[69]\tvalidation_0-error:0.18225\tvalidation_0-logloss:0.41013\tvalidation_1-error:0.29513\tvalidation_1-logloss:0.57303\n",
      "[70]\tvalidation_0-error:0.18127\tvalidation_0-logloss:0.40951\tvalidation_1-error:0.29670\tvalidation_1-logloss:0.57303\n",
      "[71]\tvalidation_0-error:0.18205\tvalidation_0-logloss:0.40903\tvalidation_1-error:0.29435\tvalidation_1-logloss:0.57374\n",
      "[72]\tvalidation_0-error:0.18127\tvalidation_0-logloss:0.40797\tvalidation_1-error:0.29592\tvalidation_1-logloss:0.57456\n",
      "[73]\tvalidation_0-error:0.18068\tvalidation_0-logloss:0.40758\tvalidation_1-error:0.29278\tvalidation_1-logloss:0.57471\n",
      "[74]\tvalidation_0-error:0.18009\tvalidation_0-logloss:0.40672\tvalidation_1-error:0.29356\tvalidation_1-logloss:0.57559\n",
      "[75]\tvalidation_0-error:0.17871\tvalidation_0-logloss:0.40542\tvalidation_1-error:0.29435\tvalidation_1-logloss:0.57641\n",
      "[76]\tvalidation_0-error:0.17557\tvalidation_0-logloss:0.40389\tvalidation_1-error:0.29827\tvalidation_1-logloss:0.57719\n",
      "[77]\tvalidation_0-error:0.17596\tvalidation_0-logloss:0.40324\tvalidation_1-error:0.29749\tvalidation_1-logloss:0.57756\n",
      "[78]\tvalidation_0-error:0.17518\tvalidation_0-logloss:0.40286\tvalidation_1-error:0.29749\tvalidation_1-logloss:0.57770\n",
      "[79]\tvalidation_0-error:0.17596\tvalidation_0-logloss:0.40252\tvalidation_1-error:0.29827\tvalidation_1-logloss:0.57791\n",
      "[80]\tvalidation_0-error:0.17596\tvalidation_0-logloss:0.40219\tvalidation_1-error:0.29749\tvalidation_1-logloss:0.57812\n",
      "[81]\tvalidation_0-error:0.17793\tvalidation_0-logloss:0.40148\tvalidation_1-error:0.29749\tvalidation_1-logloss:0.57870\n",
      "[82]\tvalidation_0-error:0.17694\tvalidation_0-logloss:0.40112\tvalidation_1-error:0.29592\tvalidation_1-logloss:0.57860\n",
      "[83]\tvalidation_0-error:0.17636\tvalidation_0-logloss:0.40038\tvalidation_1-error:0.29670\tvalidation_1-logloss:0.57977\n",
      "[84]\tvalidation_0-error:0.17478\tvalidation_0-logloss:0.40002\tvalidation_1-error:0.29513\tvalidation_1-logloss:0.57992\n",
      "[85]\tvalidation_0-error:0.17478\tvalidation_0-logloss:0.39980\tvalidation_1-error:0.29435\tvalidation_1-logloss:0.58029\n",
      "[86]\tvalidation_0-error:0.17478\tvalidation_0-logloss:0.39903\tvalidation_1-error:0.29435\tvalidation_1-logloss:0.58029\n",
      "[87]\tvalidation_0-error:0.17380\tvalidation_0-logloss:0.39831\tvalidation_1-error:0.29592\tvalidation_1-logloss:0.58081\n",
      "[88]\tvalidation_0-error:0.17262\tvalidation_0-logloss:0.39700\tvalidation_1-error:0.29199\tvalidation_1-logloss:0.58025\n",
      "[89]\tvalidation_0-error:0.17184\tvalidation_0-logloss:0.39547\tvalidation_1-error:0.29592\tvalidation_1-logloss:0.58052\n",
      "[90]\tvalidation_0-error:0.17164\tvalidation_0-logloss:0.39495\tvalidation_1-error:0.29749\tvalidation_1-logloss:0.58098\n",
      "[91]\tvalidation_0-error:0.17027\tvalidation_0-logloss:0.39385\tvalidation_1-error:0.29670\tvalidation_1-logloss:0.58174\n",
      "[92]\tvalidation_0-error:0.17046\tvalidation_0-logloss:0.39326\tvalidation_1-error:0.29670\tvalidation_1-logloss:0.58251\n",
      "[93]\tvalidation_0-error:0.17007\tvalidation_0-logloss:0.39252\tvalidation_1-error:0.29749\tvalidation_1-logloss:0.58262\n",
      "[94]\tvalidation_0-error:0.16928\tvalidation_0-logloss:0.39217\tvalidation_1-error:0.29670\tvalidation_1-logloss:0.58313\n",
      "[95]\tvalidation_0-error:0.16889\tvalidation_0-logloss:0.39173\tvalidation_1-error:0.29670\tvalidation_1-logloss:0.58373\n",
      "[96]\tvalidation_0-error:0.16811\tvalidation_0-logloss:0.39065\tvalidation_1-error:0.29670\tvalidation_1-logloss:0.58347\n",
      "[97]\tvalidation_0-error:0.16830\tvalidation_0-logloss:0.39039\tvalidation_1-error:0.29592\tvalidation_1-logloss:0.58428\n",
      "[98]\tvalidation_0-error:0.16673\tvalidation_0-logloss:0.38978\tvalidation_1-error:0.29592\tvalidation_1-logloss:0.58453\n",
      "[99]\tvalidation_0-error:0.16614\tvalidation_0-logloss:0.38910\tvalidation_1-error:0.29513\tvalidation_1-logloss:0.58421\n"
     ]
    },
    {
     "data": {
      "text/plain": [
       "XGBClassifier(base_score=0.5, booster='gbtree', colsample_bylevel=1,\n",
       "              colsample_bynode=1, colsample_bytree=1, gamma=0, gpu_id=-1,\n",
       "              importance_type='gain', interaction_constraints='',\n",
       "              learning_rate=0.300000012, max_delta_step=0, max_depth=6,\n",
       "              min_child_weight=1, missing=nan, monotone_constraints='()',\n",
       "              n_estimators=100, n_jobs=4, num_parallel_tree=1, random_state=0,\n",
       "              reg_alpha=0, reg_lambda=1, scale_pos_weight=1, subsample=1,\n",
       "              tree_method='exact', validate_parameters=1, verbosity=None)"
      ]
     },
     "execution_count": 9,
     "metadata": {},
     "output_type": "execute_result"
    }
   ],
   "source": [
    "# fit model no training data\n",
    "model = XGBClassifier()\n",
    "eval_set = [(X_train, y_train), (X_test, y_test)]\n",
    "model.fit(X_train, y_train, eval_metric=[\"error\", \"logloss\"], eval_set=eval_set, verbose=True)\n"
   ]
  },
  {
   "cell_type": "code",
   "execution_count": 10,
   "metadata": {},
   "outputs": [
    {
     "name": "stdout",
     "output_type": "stream",
     "text": [
      "[0]\tvalidation_0-error:0.26119\tvalidation_0-logloss:0.61910\tvalidation_1-error:0.28807\tvalidation_1-logloss:0.62672\n",
      "[1]\tvalidation_0-error:0.25628\tvalidation_0-logloss:0.57817\tvalidation_1-error:0.28336\tvalidation_1-logloss:0.59019\n",
      "[2]\tvalidation_0-error:0.25628\tvalidation_0-logloss:0.55407\tvalidation_1-error:0.28022\tvalidation_1-logloss:0.56938\n",
      "[3]\tvalidation_0-error:0.25020\tvalidation_0-logloss:0.53773\tvalidation_1-error:0.28336\tvalidation_1-logloss:0.55865\n",
      "[4]\tvalidation_0-error:0.24823\tvalidation_0-logloss:0.52694\tvalidation_1-error:0.28493\tvalidation_1-logloss:0.55029\n",
      "[5]\tvalidation_0-error:0.24646\tvalidation_0-logloss:0.51784\tvalidation_1-error:0.28022\tvalidation_1-logloss:0.54523\n",
      "[6]\tvalidation_0-error:0.24391\tvalidation_0-logloss:0.51156\tvalidation_1-error:0.27551\tvalidation_1-logloss:0.54187\n",
      "[7]\tvalidation_0-error:0.24332\tvalidation_0-logloss:0.50712\tvalidation_1-error:0.27865\tvalidation_1-logloss:0.54074\n",
      "[8]\tvalidation_0-error:0.24175\tvalidation_0-logloss:0.50294\tvalidation_1-error:0.27551\tvalidation_1-logloss:0.53729\n",
      "[9]\tvalidation_0-error:0.24332\tvalidation_0-logloss:0.50051\tvalidation_1-error:0.27315\tvalidation_1-logloss:0.53594\n",
      "[10]\tvalidation_0-error:0.24234\tvalidation_0-logloss:0.49825\tvalidation_1-error:0.27472\tvalidation_1-logloss:0.53511\n",
      "[11]\tvalidation_0-error:0.24155\tvalidation_0-logloss:0.49654\tvalidation_1-error:0.27472\tvalidation_1-logloss:0.53514\n",
      "[12]\tvalidation_0-error:0.24175\tvalidation_0-logloss:0.49446\tvalidation_1-error:0.27159\tvalidation_1-logloss:0.53439\n",
      "[13]\tvalidation_0-error:0.23782\tvalidation_0-logloss:0.48970\tvalidation_1-error:0.26609\tvalidation_1-logloss:0.53395\n",
      "[14]\tvalidation_0-error:0.23448\tvalidation_0-logloss:0.48616\tvalidation_1-error:0.27394\tvalidation_1-logloss:0.53563\n",
      "[15]\tvalidation_0-error:0.23213\tvalidation_0-logloss:0.48436\tvalidation_1-error:0.27394\tvalidation_1-logloss:0.53568\n",
      "[16]\tvalidation_0-error:0.23193\tvalidation_0-logloss:0.48229\tvalidation_1-error:0.27394\tvalidation_1-logloss:0.53524\n",
      "[17]\tvalidation_0-error:0.23134\tvalidation_0-logloss:0.48046\tvalidation_1-error:0.27237\tvalidation_1-logloss:0.53665\n",
      "[18]\tvalidation_0-error:0.22801\tvalidation_0-logloss:0.47900\tvalidation_1-error:0.27472\tvalidation_1-logloss:0.53760\n",
      "[19]\tvalidation_0-error:0.22683\tvalidation_0-logloss:0.47605\tvalidation_1-error:0.27159\tvalidation_1-logloss:0.53706\n",
      "[20]\tvalidation_0-error:0.22604\tvalidation_0-logloss:0.47457\tvalidation_1-error:0.27237\tvalidation_1-logloss:0.53769\n",
      "[21]\tvalidation_0-error:0.22467\tvalidation_0-logloss:0.47140\tvalidation_1-error:0.27002\tvalidation_1-logloss:0.54013\n",
      "[22]\tvalidation_0-error:0.22309\tvalidation_0-logloss:0.46867\tvalidation_1-error:0.26923\tvalidation_1-logloss:0.54116\n",
      "[23]\tvalidation_0-error:0.22152\tvalidation_0-logloss:0.46692\tvalidation_1-error:0.26923\tvalidation_1-logloss:0.54230\n",
      "[24]\tvalidation_0-error:0.22211\tvalidation_0-logloss:0.46550\tvalidation_1-error:0.26923\tvalidation_1-logloss:0.54322\n",
      "[25]\tvalidation_0-error:0.21995\tvalidation_0-logloss:0.46374\tvalidation_1-error:0.27002\tvalidation_1-logloss:0.54424\n",
      "[26]\tvalidation_0-error:0.21858\tvalidation_0-logloss:0.46279\tvalidation_1-error:0.27080\tvalidation_1-logloss:0.54428\n",
      "[27]\tvalidation_0-error:0.21760\tvalidation_0-logloss:0.46068\tvalidation_1-error:0.27159\tvalidation_1-logloss:0.54651\n",
      "[28]\tvalidation_0-error:0.21681\tvalidation_0-logloss:0.45903\tvalidation_1-error:0.27159\tvalidation_1-logloss:0.54746\n",
      "[29]\tvalidation_0-error:0.21661\tvalidation_0-logloss:0.45726\tvalidation_1-error:0.27472\tvalidation_1-logloss:0.54946\n",
      "[30]\tvalidation_0-error:0.21661\tvalidation_0-logloss:0.45610\tvalidation_1-error:0.27472\tvalidation_1-logloss:0.55001\n",
      "[31]\tvalidation_0-error:0.21485\tvalidation_0-logloss:0.45430\tvalidation_1-error:0.27080\tvalidation_1-logloss:0.55042\n",
      "[32]\tvalidation_0-error:0.21347\tvalidation_0-logloss:0.45316\tvalidation_1-error:0.27080\tvalidation_1-logloss:0.55209\n",
      "[33]\tvalidation_0-error:0.21386\tvalidation_0-logloss:0.45160\tvalidation_1-error:0.27394\tvalidation_1-logloss:0.55343\n",
      "[34]\tvalidation_0-error:0.21249\tvalidation_0-logloss:0.45025\tvalidation_1-error:0.27394\tvalidation_1-logloss:0.55393\n",
      "[35]\tvalidation_0-error:0.21013\tvalidation_0-logloss:0.44912\tvalidation_1-error:0.27630\tvalidation_1-logloss:0.55516\n",
      "[36]\tvalidation_0-error:0.21033\tvalidation_0-logloss:0.44794\tvalidation_1-error:0.27630\tvalidation_1-logloss:0.55727\n",
      "[37]\tvalidation_0-error:0.20856\tvalidation_0-logloss:0.44534\tvalidation_1-error:0.27551\tvalidation_1-logloss:0.55749\n",
      "[38]\tvalidation_0-error:0.20660\tvalidation_0-logloss:0.44273\tvalidation_1-error:0.27786\tvalidation_1-logloss:0.55893\n",
      "[39]\tvalidation_0-error:0.20680\tvalidation_0-logloss:0.44133\tvalidation_1-error:0.27708\tvalidation_1-logloss:0.56047\n",
      "[40]\tvalidation_0-error:0.20503\tvalidation_0-logloss:0.43876\tvalidation_1-error:0.27865\tvalidation_1-logloss:0.56173\n",
      "[41]\tvalidation_0-error:0.20267\tvalidation_0-logloss:0.43637\tvalidation_1-error:0.28179\tvalidation_1-logloss:0.56284\n",
      "[42]\tvalidation_0-error:0.20110\tvalidation_0-logloss:0.43443\tvalidation_1-error:0.28022\tvalidation_1-logloss:0.56347\n",
      "[43]\tvalidation_0-error:0.19914\tvalidation_0-logloss:0.43361\tvalidation_1-error:0.27943\tvalidation_1-logloss:0.56348\n",
      "[44]\tvalidation_0-error:0.19894\tvalidation_0-logloss:0.43160\tvalidation_1-error:0.28022\tvalidation_1-logloss:0.56297\n",
      "[45]\tvalidation_0-error:0.19796\tvalidation_0-logloss:0.43029\tvalidation_1-error:0.28022\tvalidation_1-logloss:0.56408\n",
      "[46]\tvalidation_0-error:0.19717\tvalidation_0-logloss:0.42917\tvalidation_1-error:0.27551\tvalidation_1-logloss:0.56475\n",
      "[47]\tvalidation_0-error:0.19521\tvalidation_0-logloss:0.42676\tvalidation_1-error:0.27551\tvalidation_1-logloss:0.56532\n",
      "[48]\tvalidation_0-error:0.19364\tvalidation_0-logloss:0.42575\tvalidation_1-error:0.27315\tvalidation_1-logloss:0.56602\n",
      "[49]\tvalidation_0-error:0.19030\tvalidation_0-logloss:0.42429\tvalidation_1-error:0.27394\tvalidation_1-logloss:0.56739\n",
      "[50]\tvalidation_0-error:0.19069\tvalidation_0-logloss:0.42325\tvalidation_1-error:0.27080\tvalidation_1-logloss:0.56819\n",
      "[51]\tvalidation_0-error:0.19108\tvalidation_0-logloss:0.42229\tvalidation_1-error:0.26845\tvalidation_1-logloss:0.56777\n",
      "[52]\tvalidation_0-error:0.19108\tvalidation_0-logloss:0.42040\tvalidation_1-error:0.27315\tvalidation_1-logloss:0.56941\n",
      "[53]\tvalidation_0-error:0.19069\tvalidation_0-logloss:0.41947\tvalidation_1-error:0.27630\tvalidation_1-logloss:0.57140\n",
      "[54]\tvalidation_0-error:0.18912\tvalidation_0-logloss:0.41823\tvalidation_1-error:0.28022\tvalidation_1-logloss:0.57271\n",
      "[55]\tvalidation_0-error:0.18814\tvalidation_0-logloss:0.41768\tvalidation_1-error:0.27943\tvalidation_1-logloss:0.57315\n",
      "[56]\tvalidation_0-error:0.18558\tvalidation_0-logloss:0.41562\tvalidation_1-error:0.28571\tvalidation_1-logloss:0.57379\n",
      "[57]\tvalidation_0-error:0.18617\tvalidation_0-logloss:0.41533\tvalidation_1-error:0.28650\tvalidation_1-logloss:0.57399\n",
      "[58]\tvalidation_0-error:0.18558\tvalidation_0-logloss:0.41391\tvalidation_1-error:0.28571\tvalidation_1-logloss:0.57501\n",
      "[59]\tvalidation_0-error:0.18382\tvalidation_0-logloss:0.41219\tvalidation_1-error:0.28414\tvalidation_1-logloss:0.57547\n",
      "[60]\tvalidation_0-error:0.18264\tvalidation_0-logloss:0.41120\tvalidation_1-error:0.28571\tvalidation_1-logloss:0.57618\n",
      "[61]\tvalidation_0-error:0.18264\tvalidation_0-logloss:0.41052\tvalidation_1-error:0.28650\tvalidation_1-logloss:0.57675\n",
      "[62]\tvalidation_0-error:0.18225\tvalidation_0-logloss:0.41014\tvalidation_1-error:0.28807\tvalidation_1-logloss:0.57810\n",
      "[63]\tvalidation_0-error:0.18205\tvalidation_0-logloss:0.40878\tvalidation_1-error:0.29199\tvalidation_1-logloss:0.57932\n",
      "[64]\tvalidation_0-error:0.17969\tvalidation_0-logloss:0.40614\tvalidation_1-error:0.28964\tvalidation_1-logloss:0.58088\n",
      "[65]\tvalidation_0-error:0.17871\tvalidation_0-logloss:0.40546\tvalidation_1-error:0.29042\tvalidation_1-logloss:0.58168\n",
      "[66]\tvalidation_0-error:0.17714\tvalidation_0-logloss:0.40328\tvalidation_1-error:0.28807\tvalidation_1-logloss:0.58394\n",
      "[67]\tvalidation_0-error:0.17694\tvalidation_0-logloss:0.40134\tvalidation_1-error:0.28964\tvalidation_1-logloss:0.58515\n",
      "[68]\tvalidation_0-error:0.17694\tvalidation_0-logloss:0.40059\tvalidation_1-error:0.28964\tvalidation_1-logloss:0.58518\n",
      "[69]\tvalidation_0-error:0.17714\tvalidation_0-logloss:0.39985\tvalidation_1-error:0.28964\tvalidation_1-logloss:0.58580\n",
      "[70]\tvalidation_0-error:0.17636\tvalidation_0-logloss:0.39912\tvalidation_1-error:0.29121\tvalidation_1-logloss:0.58688\n",
      "[71]\tvalidation_0-error:0.17419\tvalidation_0-logloss:0.39865\tvalidation_1-error:0.29592\tvalidation_1-logloss:0.58739\n",
      "[72]\tvalidation_0-error:0.17282\tvalidation_0-logloss:0.39704\tvalidation_1-error:0.29356\tvalidation_1-logloss:0.58781\n",
      "[73]\tvalidation_0-error:0.17341\tvalidation_0-logloss:0.39666\tvalidation_1-error:0.29278\tvalidation_1-logloss:0.58830\n",
      "[74]\tvalidation_0-error:0.17203\tvalidation_0-logloss:0.39592\tvalidation_1-error:0.29278\tvalidation_1-logloss:0.58915\n",
      "[75]\tvalidation_0-error:0.16909\tvalidation_0-logloss:0.39425\tvalidation_1-error:0.29670\tvalidation_1-logloss:0.58949\n",
      "[76]\tvalidation_0-error:0.16968\tvalidation_0-logloss:0.39233\tvalidation_1-error:0.29592\tvalidation_1-logloss:0.59119\n",
      "[77]\tvalidation_0-error:0.16811\tvalidation_0-logloss:0.39099\tvalidation_1-error:0.29435\tvalidation_1-logloss:0.59109\n",
      "[78]\tvalidation_0-error:0.16673\tvalidation_0-logloss:0.38972\tvalidation_1-error:0.29513\tvalidation_1-logloss:0.59069\n",
      "[79]\tvalidation_0-error:0.16654\tvalidation_0-logloss:0.38809\tvalidation_1-error:0.29435\tvalidation_1-logloss:0.59211\n",
      "[80]\tvalidation_0-error:0.16575\tvalidation_0-logloss:0.38716\tvalidation_1-error:0.29278\tvalidation_1-logloss:0.59313\n",
      "[81]\tvalidation_0-error:0.16555\tvalidation_0-logloss:0.38658\tvalidation_1-error:0.29670\tvalidation_1-logloss:0.59327\n",
      "[82]\tvalidation_0-error:0.16379\tvalidation_0-logloss:0.38545\tvalidation_1-error:0.29670\tvalidation_1-logloss:0.59390\n",
      "[83]\tvalidation_0-error:0.16418\tvalidation_0-logloss:0.38513\tvalidation_1-error:0.29670\tvalidation_1-logloss:0.59451\n",
      "[84]\tvalidation_0-error:0.16398\tvalidation_0-logloss:0.38489\tvalidation_1-error:0.29435\tvalidation_1-logloss:0.59468\n",
      "[85]\tvalidation_0-error:0.16359\tvalidation_0-logloss:0.38439\tvalidation_1-error:0.29435\tvalidation_1-logloss:0.59550\n",
      "[86]\tvalidation_0-error:0.16398\tvalidation_0-logloss:0.38382\tvalidation_1-error:0.29278\tvalidation_1-logloss:0.59633\n",
      "[87]\tvalidation_0-error:0.16359\tvalidation_0-logloss:0.38357\tvalidation_1-error:0.29121\tvalidation_1-logloss:0.59593\n",
      "[88]\tvalidation_0-error:0.16418\tvalidation_0-logloss:0.38312\tvalidation_1-error:0.29121\tvalidation_1-logloss:0.59679\n",
      "[89]\tvalidation_0-error:0.16379\tvalidation_0-logloss:0.38232\tvalidation_1-error:0.29278\tvalidation_1-logloss:0.59762\n",
      "[90]\tvalidation_0-error:0.16418\tvalidation_0-logloss:0.38152\tvalidation_1-error:0.29670\tvalidation_1-logloss:0.59928\n",
      "[91]\tvalidation_0-error:0.16202\tvalidation_0-logloss:0.38003\tvalidation_1-error:0.29356\tvalidation_1-logloss:0.59929\n",
      "[92]\tvalidation_0-error:0.16143\tvalidation_0-logloss:0.37948\tvalidation_1-error:0.29592\tvalidation_1-logloss:0.60044\n",
      "[93]\tvalidation_0-error:0.16123\tvalidation_0-logloss:0.37885\tvalidation_1-error:0.29670\tvalidation_1-logloss:0.60080\n",
      "[94]\tvalidation_0-error:0.16084\tvalidation_0-logloss:0.37731\tvalidation_1-error:0.29670\tvalidation_1-logloss:0.60260\n",
      "[95]\tvalidation_0-error:0.16064\tvalidation_0-logloss:0.37620\tvalidation_1-error:0.29827\tvalidation_1-logloss:0.60326\n",
      "[96]\tvalidation_0-error:0.16064\tvalidation_0-logloss:0.37589\tvalidation_1-error:0.29827\tvalidation_1-logloss:0.60360\n",
      "[97]\tvalidation_0-error:0.16045\tvalidation_0-logloss:0.37554\tvalidation_1-error:0.29827\tvalidation_1-logloss:0.60340\n",
      "[98]\tvalidation_0-error:0.16025\tvalidation_0-logloss:0.37519\tvalidation_1-error:0.29906\tvalidation_1-logloss:0.60384\n",
      "[99]\tvalidation_0-error:0.16025\tvalidation_0-logloss:0.37480\tvalidation_1-error:0.29984\tvalidation_1-logloss:0.60460\n"
     ]
    }
   ],
   "source": [
    "model = XGBClassifier(base_score=0.5, booster='gbtree', colsample_bylevel=1,\n",
    "              colsample_bynode=1, colsample_bytree=1, gamma=0, gpu_id=-1,\n",
    "              importance_type='gain', interaction_constraints='',\n",
    "              learning_rate=0.300000012, max_delta_step=0, max_depth=6,\n",
    "              min_child_weight=1, missing=0, monotone_constraints='()',\n",
    "              n_estimators=100, n_jobs=4, num_parallel_tree=1, random_state=0,\n",
    "              reg_alpha=0, reg_lambda=1, scale_pos_weight=1, subsample=1,\n",
    "              tree_method='exact', validate_parameters=1, verbosity=None)\n",
    "model.fit(X_train, y_train, eval_metric=[\"error\", \"logloss\"], eval_set=eval_set, verbose=True)\n",
    "\n",
    "#save model\n",
    "import pickle\n",
    "pickle.dump(model, open(\"xgboost_model.p\", \"wb\" ))\n"
   ]
  },
  {
   "cell_type": "code",
   "execution_count": 11,
   "metadata": {},
   "outputs": [
    {
     "name": "stdout",
     "output_type": "stream",
     "text": [
      "Making predictions for the following in train set:\n",
      "[0, 1, 0, 0, 0, 0, 0, 0, 1, 0, 1, 1, 1, 0, 0, 0, 0, 0, 0, 1]\n",
      "Accuracy Score in Training set 15\n",
      "Making predictions for the following in test set:\n",
      "[1, 1, 1, 0, 1, 1, 0, 0, 0, 0, 0, 0, 1, 0, 1, 1, 0, 0, 0, 0]\n",
      "Accuracy Score in Testing set 13\n"
     ]
    }
   ],
   "source": [
    "\n",
    "# predictions for train data\n",
    "print(\"Making predictions for the following in train set:\")\n",
    "y_p = model.predict(X_train[0:20])\n",
    "prediction = [round(value) for value in y_p]\n",
    "true_values=y_test[0:20]\n",
    "print(prediction)\n",
    "training_accuracy=accuracy_score(true_values, prediction, normalize=False)\n",
    "print(\"Accuracy Score in Training set\", training_accuracy)\n",
    "\n",
    "# predictions for test data\n",
    "print(\"Making predictions for the following in test set:\")\n",
    "y_pred = model.predict(X_test[0:20])\n",
    "predictions = [round(value) for value in y_pred]\n",
    "print(predictions)\n",
    "training_accuracy=accuracy_score(true_values, predictions, normalize=False)\n",
    "print(\"Accuracy Score in Testing set\", training_accuracy)"
   ]
  },
  {
   "cell_type": "code",
   "execution_count": 12,
   "metadata": {},
   "outputs": [
    {
     "data": {
      "image/png": "[encoded data removed]",
      "text/plain": [
       "<Figure size 432x288 with 1 Axes>"
      ]
     },
     "metadata": {
      "needs_background": "light"
     },
     "output_type": "display_data"
    }
   ],
   "source": [
    "# evaluate predictions\n",
    "# retrieve performance metrics\n",
    "results = model.evals_result()\n",
    "epochs = len(results['validation_0']['error'])\n",
    "x_axis = range(0, epochs)\n",
    "\n",
    "fig, af = plt.subplots()\n",
    "af.plot(x_axis, results['validation_0']['logloss'], label='Train')\n",
    "af.plot(x_axis, results['validation_1']['logloss'], label='Test')\n",
    "af.legend()\n",
    "plt.ylabel('Log Loss')\n",
    "plt.title('XGBoost Log Loss')\n",
    "plt.show()"
   ]
  },
  {
   "cell_type": "code",
   "execution_count": 13,
   "metadata": {},
   "outputs": [
    {
     "data": {
      "image/png": "[encoded data removed]",
      "text/plain": [
       "<Figure size 432x288 with 1 Axes>"
      ]
     },
     "metadata": {
      "needs_background": "light"
     },
     "output_type": "display_data"
    }
   ],
   "source": [
    "# plot classification error\n",
    "fig, af = plt.subplots()\n",
    "af.plot(x_axis, results['validation_0']['error'], label='Train')\n",
    "af.plot(x_axis, results['validation_1']['error'], label='Test')\n",
    "af.legend()\n",
    "plt.ylabel('Classification Error')\n",
    "plt.title('XGBoost Classification Error')\n",
    "plt.show()"
   ]
  },
  {
   "cell_type": "code",
   "execution_count": 14,
   "metadata": {
    "scrolled": true
   },
   "outputs": [
    {
     "data": {
      "image/png": "[encoded data removed]",
      "text/plain": [
       "<Figure size 432x288 with 2 Axes>"
      ]
     },
     "metadata": {
      "needs_background": "light"
     },
     "output_type": "display_data"
    },
    {
     "data": {
      "image/png": "[encoded data removed]",
      "text/plain": [
       "<Figure size 432x288 with 2 Axes>"
      ]
     },
     "metadata": {
      "needs_background": "light"
     },
     "output_type": "display_data"
    }
   ],
   "source": [
    "#Plot the confusion matrix for training data using percentage\n",
    "plot_confusion_matrix(model, X_train, y_train, normalize=\"all\")\n",
    "plt.savefig('con_trainnum.png')\n",
    "plt.title('Confusion Matrix (Train set)')\n",
    "plt.show()\n",
    "\n",
    "#Plot the confusion matrix for testing data using percentage\n",
    "plot_confusion_matrix(model, X_test, y_test,normalize=\"all\")\n",
    "plt.savefig('con_testnum.png')\n",
    "plt.title('Confusion Matrix (Test set)')\n",
    "plt.show()"
   ]
  },
  {
   "cell_type": "code",
   "execution_count": 15,
   "metadata": {},
   "outputs": [
    {
     "name": "stdout",
     "output_type": "stream",
     "text": [
      "Average Train accuracy  0.8397486252945797\n",
      "Average Testing accuracy  0.7001569858712716\n"
     ]
    }
   ],
   "source": [
    "\n",
    "# Average training error\n",
    "from sklearn.metrics import accuracy_score\n",
    "training_accuracy=accuracy_score(y_train, model.predict(X_train))\n",
    "print(\"Average Train accuracy \", training_accuracy)\n",
    "\n",
    "testing_accuracy=accuracy_score(y_test, model.predict(X_test))\n",
    "print(\"Average Testing accuracy \", testing_accuracy)\n"
   ]
  },
  {
   "cell_type": "code",
   "execution_count": null,
   "metadata": {},
   "outputs": [],
   "source": []
  }
 ],
 "metadata": {
  "kernelspec": {
   "display_name": "Python 3",
   "language": "python",
   "name": "python3"
  },
  "language_info": {
   "codemirror_mode": {
    "name": "ipython",
    "version": 3
   },
   "file_extension": ".py",
   "mimetype": "text/x-python",
   "name": "python",
   "nbconvert_exporter": "python",
   "pygments_lexer": "ipython3",
   "version": "3.8.5"
  }
 },
 "nbformat": 4,
 "nbformat_minor": 4
}
